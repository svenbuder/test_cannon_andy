{
 "cells": [
  {
   "cell_type": "code",
   "execution_count": null,
   "id": "38b39c46",
   "metadata": {},
   "outputs": [],
   "source": [
    "import pandas as pd\n",
    "import numpy as np\n",
    "import thecannon as tc"
   ]
  },
  {
   "cell_type": "code",
   "execution_count": null,
   "id": "91ffe6a6",
   "metadata": {},
   "outputs": [],
   "source": [
    "# Read in the training labels and model spectra\n",
    "# These are 1000 samples of labels 'EWT','LMA','N','CHL','CAR','ANT'\n",
    "# used to modelled spectra at wavelengths 400..1..2500nm with the PROSPECT code\n",
    "LUC_labels  = pd.read_csv('PROSPECT_input.csv')\n",
    "LUC_spectra = pd.read_csv('PROSPECT_LUT.csv')"
   ]
  },
  {
   "cell_type": "code",
   "execution_count": null,
   "id": "4cf697c5",
   "metadata": {},
   "outputs": [],
   "source": [
    "# Prepare input for a complete and restrictred Cannon model\n",
    "prospect_wavelength = np.arange(400,2501,1)\n",
    "\n",
    "labels = ['EWT','LMA','N','CHL','CAR','ANT']\n",
    "prospect_labels = np.array(LUC_labels[labels])\n",
    "\n",
    "labels_restricted = ['EWT','LMA']\n",
    "prospect_labels_restricted = np.array(LUC_labels[labels_restricted])\n",
    "\n",
    "prospect_spectra = np.array(LUC_spectra).T\n",
    "prospect_spectra_ivar = (100./prospect_spectra)**2.0 # SNR 100"
   ]
  },
  {
   "cell_type": "code",
   "execution_count": null,
   "id": "bde3f91f",
   "metadata": {},
   "outputs": [],
   "source": [
    "# Initialise and train the complete Cannon Model\n",
    "prospect_model = tc.CannonModel(\n",
    "    prospect_labels,\n",
    "    prospect_spectra, prospect_spectra_ivar,\n",
    "    vectorizer=tc.vectorizer.PolynomialVectorizer(list(labels), 2),dispersion=prospect_wavelength)\n",
    "prospect_theta, prospect_s2, prospect_metadata = prospect_model.train(threads=1)"
   ]
  },
  {
   "cell_type": "code",
   "execution_count": null,
   "id": "a4c69109",
   "metadata": {},
   "outputs": [],
   "source": [
    "# Test the label recovery of the same spectra\n",
    "prospect_test_labels, prospect_test_cov, prospect_metadata = prospect_model.test(prospect_spectra, prospect_spectra_ivar)"
   ]
  },
  {
   "cell_type": "code",
   "execution_count": null,
   "id": "edc6ae8a",
   "metadata": {},
   "outputs": [],
   "source": [
    "prospect_model.write('prospect_model.model',overwrite=True)"
   ]
  },
  {
   "cell_type": "code",
   "execution_count": null,
   "id": "fa18c544",
   "metadata": {},
   "outputs": [],
   "source": [
    "# Initialise and train the restricted Cannon Model\n",
    "prospect_model_restricted = tc.CannonModel(\n",
    "    prospect_labels_restricted,\n",
    "    prospect_spectra, prospect_spectra_ivar,\n",
    "    vectorizer=tc.vectorizer.PolynomialVectorizer(list(labels_restricted), 2),dispersion=prospect_wavelength)\n",
    "prospect_theta_restricted, prospect_s2_restricted, prospect_metadata_restricted = prospect_model_restricted.train(threads=1)"
   ]
  },
  {
   "cell_type": "code",
   "execution_count": null,
   "id": "0fd6e371",
   "metadata": {},
   "outputs": [],
   "source": [
    "# Test the label recovery of the same spectra\n",
    "prospect_test_labels_restricted, prospect_test_cov_restricted, prospect_metadata_restricted = prospect_model_restricted.test(prospect_spectra, prospect_spectra_ivar)"
   ]
  },
  {
   "cell_type": "code",
   "execution_count": null,
   "id": "af9734ab",
   "metadata": {},
   "outputs": [],
   "source": [
    "prospect_model_restricted.write('prospect_model_restricted.model',overwrite=True)"
   ]
  }
 ],
 "metadata": {
  "kernelspec": {
   "display_name": "Python 3 (ipykernel)",
   "language": "python",
   "name": "python3"
  },
  "language_info": {
   "codemirror_mode": {
    "name": "ipython",
    "version": 3
   },
   "file_extension": ".py",
   "mimetype": "text/x-python",
   "name": "python",
   "nbconvert_exporter": "python",
   "pygments_lexer": "ipython3",
   "version": "3.9.12"
  }
 },
 "nbformat": 4,
 "nbformat_minor": 5
}
